{
 "cells": [
  {
   "cell_type": "code",
   "execution_count": 2,
   "id": "281a5fe1-74ec-4cf1-9622-2d23ddf28b29",
   "metadata": {},
   "outputs": [],
   "source": [
    "import numpy as np\n",
    "\n",
    "import pandas as pd"
   ]
  },
  {
   "cell_type": "code",
   "execution_count": 3,
   "id": "50a3dd15-d528-463a-b9fd-856fbd31b438",
   "metadata": {},
   "outputs": [],
   "source": [
    "df=pd.read_csv(\"product.csv\")"
   ]
  },
  {
   "cell_type": "code",
   "execution_count": 4,
   "id": "45bba616-e889-4e20-9184-d2225bc30227",
   "metadata": {},
   "outputs": [
    {
     "data": {
      "text/html": [
       "<div>\n",
       "<style scoped>\n",
       "    .dataframe tbody tr th:only-of-type {\n",
       "        vertical-align: middle;\n",
       "    }\n",
       "\n",
       "    .dataframe tbody tr th {\n",
       "        vertical-align: top;\n",
       "    }\n",
       "\n",
       "    .dataframe thead th {\n",
       "        text-align: right;\n",
       "    }\n",
       "</style>\n",
       "<table border=\"1\" class=\"dataframe\">\n",
       "  <thead>\n",
       "    <tr style=\"text-align: right;\">\n",
       "      <th></th>\n",
       "      <th>product_id</th>\n",
       "      <th>order_date</th>\n",
       "      <th>quantity</th>\n",
       "    </tr>\n",
       "  </thead>\n",
       "  <tbody>\n",
       "    <tr>\n",
       "      <th>0</th>\n",
       "      <td>13b52198-282b47cc</td>\n",
       "      <td>1/2/2020</td>\n",
       "      <td>1</td>\n",
       "    </tr>\n",
       "    <tr>\n",
       "      <th>1</th>\n",
       "      <td>13e6c8b5-4cf1954c</td>\n",
       "      <td>1/2/2020</td>\n",
       "      <td>1</td>\n",
       "    </tr>\n",
       "    <tr>\n",
       "      <th>2</th>\n",
       "      <td>14a417db-2493ccbe</td>\n",
       "      <td>1/2/2020</td>\n",
       "      <td>1</td>\n",
       "    </tr>\n",
       "    <tr>\n",
       "      <th>3</th>\n",
       "      <td>14a417db-2493ccbe</td>\n",
       "      <td>1/2/2020</td>\n",
       "      <td>2</td>\n",
       "    </tr>\n",
       "    <tr>\n",
       "      <th>4</th>\n",
       "      <td>15e7b5d2-0dddbf19</td>\n",
       "      <td>1/2/2020</td>\n",
       "      <td>3</td>\n",
       "    </tr>\n",
       "    <tr>\n",
       "      <th>...</th>\n",
       "      <td>...</td>\n",
       "      <td>...</td>\n",
       "      <td>...</td>\n",
       "    </tr>\n",
       "    <tr>\n",
       "      <th>291176</th>\n",
       "      <td>dfb7d257-d51d3850</td>\n",
       "      <td>31/12/2020</td>\n",
       "      <td>1</td>\n",
       "    </tr>\n",
       "    <tr>\n",
       "      <th>291177</th>\n",
       "      <td>ea6f260f-7dc8a660</td>\n",
       "      <td>31/12/2020</td>\n",
       "      <td>1</td>\n",
       "    </tr>\n",
       "    <tr>\n",
       "      <th>291178</th>\n",
       "      <td>ea6f260f-7dc8a660</td>\n",
       "      <td>31/12/2020</td>\n",
       "      <td>1</td>\n",
       "    </tr>\n",
       "    <tr>\n",
       "      <th>291179</th>\n",
       "      <td>f1ff119f-9833e720</td>\n",
       "      <td>31/12/2020</td>\n",
       "      <td>2</td>\n",
       "    </tr>\n",
       "    <tr>\n",
       "      <th>291180</th>\n",
       "      <td>f37c1324-755fd110</td>\n",
       "      <td>31/12/2020</td>\n",
       "      <td>1</td>\n",
       "    </tr>\n",
       "  </tbody>\n",
       "</table>\n",
       "<p>291181 rows × 3 columns</p>\n",
       "</div>"
      ],
      "text/plain": [
       "               product_id  order_date  quantity\n",
       "0       13b52198-282b47cc    1/2/2020         1\n",
       "1       13e6c8b5-4cf1954c    1/2/2020         1\n",
       "2       14a417db-2493ccbe    1/2/2020         1\n",
       "3       14a417db-2493ccbe    1/2/2020         2\n",
       "4       15e7b5d2-0dddbf19    1/2/2020         3\n",
       "...                   ...         ...       ...\n",
       "291176  dfb7d257-d51d3850  31/12/2020         1\n",
       "291177  ea6f260f-7dc8a660  31/12/2020         1\n",
       "291178  ea6f260f-7dc8a660  31/12/2020         1\n",
       "291179  f1ff119f-9833e720  31/12/2020         2\n",
       "291180  f37c1324-755fd110  31/12/2020         1\n",
       "\n",
       "[291181 rows x 3 columns]"
      ]
     },
     "execution_count": 4,
     "metadata": {},
     "output_type": "execute_result"
    }
   ],
   "source": [
    "df"
   ]
  },
  {
   "cell_type": "code",
   "execution_count": 7,
   "id": "fde1c747-8fe1-4238-bc82-d942291a266c",
   "metadata": {},
   "outputs": [],
   "source": [
    "x=df[[\"product_id\", \"order_date\"]].values"
   ]
  },
  {
   "cell_type": "code",
   "execution_count": 10,
   "id": "3df0ec42-5012-49ee-baef-52bf331d2eb5",
   "metadata": {},
   "outputs": [],
   "source": [
    "y=df[[\"quantity\"]].values"
   ]
  },
  {
   "cell_type": "code",
   "execution_count": 11,
   "id": "2c1e48ed-3876-433d-9c52-fffea7d0153e",
   "metadata": {},
   "outputs": [
    {
     "data": {
      "text/plain": [
       "array([['13b52198-282b47cc', '1/2/2020'],\n",
       "       ['13e6c8b5-4cf1954c', '1/2/2020'],\n",
       "       ['14a417db-2493ccbe', '1/2/2020'],\n",
       "       ...,\n",
       "       ['ea6f260f-7dc8a660', '31/12/2020'],\n",
       "       ['f1ff119f-9833e720', '31/12/2020'],\n",
       "       ['f37c1324-755fd110', '31/12/2020']], dtype=object)"
      ]
     },
     "execution_count": 11,
     "metadata": {},
     "output_type": "execute_result"
    }
   ],
   "source": [
    "x"
   ]
  },
  {
   "cell_type": "code",
   "execution_count": 12,
   "id": "8513f4db-5b72-412b-bb61-55ce208a758a",
   "metadata": {},
   "outputs": [
    {
     "data": {
      "text/plain": [
       "array([[1],\n",
       "       [1],\n",
       "       [1],\n",
       "       ...,\n",
       "       [1],\n",
       "       [2],\n",
       "       [1]], dtype=int64)"
      ]
     },
     "execution_count": 12,
     "metadata": {},
     "output_type": "execute_result"
    }
   ],
   "source": [
    "y"
   ]
  },
  {
   "cell_type": "code",
   "execution_count": 13,
   "id": "26606846-3193-4605-b558-9388a5d45c5a",
   "metadata": {},
   "outputs": [],
   "source": [
    "from sklearn.model_selection import train_test_split"
   ]
  },
  {
   "cell_type": "code",
   "execution_count": 16,
   "id": "6a18f909-a2ae-46fa-8159-405937a679c9",
   "metadata": {},
   "outputs": [],
   "source": [
    "x_train, y_train, x_test, y_test=train_test_split(x, y, test_size=0.2, random_state=0)"
   ]
  },
  {
   "cell_type": "code",
   "execution_count": null,
   "id": "5eb3024d-7f2a-42c0-8c2a-6ce396ba54a7",
   "metadata": {},
   "outputs": [],
   "source": []
  }
 ],
 "metadata": {
  "kernelspec": {
   "display_name": "Python 3 (ipykernel)",
   "language": "python",
   "name": "python3"
  },
  "language_info": {
   "codemirror_mode": {
    "name": "ipython",
    "version": 3
   },
   "file_extension": ".py",
   "mimetype": "text/x-python",
   "name": "python",
   "nbconvert_exporter": "python",
   "pygments_lexer": "ipython3",
   "version": "3.11.3"
  }
 },
 "nbformat": 4,
 "nbformat_minor": 5
}
