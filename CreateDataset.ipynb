{
 "cells": [
  {
   "cell_type": "code",
   "execution_count": 126,
   "id": "a147d046-cb8e-4cf5-a01f-e34076dfd238",
   "metadata": {},
   "outputs": [],
   "source": [
    "import pandas as pd\n",
    "\n",
    "import numpy as np"
   ]
  },
  {
   "cell_type": "code",
   "execution_count": 127,
   "id": "3c9357c6-9dba-45f4-8264-3693adda4c72",
   "metadata": {},
   "outputs": [],
   "source": [
    "data={\"age\":[25,30,35,40,45],\n",
    "            \"premium\":[18000,32000,40000,47000,55000]}\n",
    "\n",
    "df=pd.DataFrame(data)"
   ]
  },
  {
   "cell_type": "code",
   "execution_count": 128,
   "id": "a4a4162a-610a-47e7-8342-cec5244d06ce",
   "metadata": {},
   "outputs": [],
   "source": [
    "df.to_csv(\"insurance.csv\")"
   ]
  },
  {
   "cell_type": "code",
   "execution_count": null,
   "id": "9fee33fe-d367-4cff-b6e9-a2e6d7c55787",
   "metadata": {},
   "outputs": [],
   "source": []
  },
  {
   "cell_type": "code",
   "execution_count": null,
   "id": "6a399daa-3747-4e31-b6a5-9fc93e2aacbd",
   "metadata": {},
   "outputs": [],
   "source": []
  },
  {
   "cell_type": "code",
   "execution_count": 129,
   "id": "676a7cae-3d31-4fef-96ed-4b931eafe65c",
   "metadata": {},
   "outputs": [],
   "source": [
    "data={\"age\":[25,30,35,40,45],\n",
    "     \"height\":[162.56, 172.72,167.64,np.nan,157.48],\n",
    "     \"weight\":[70,95,78,110,85],\n",
    "     \"premium\":[18000,38000,38000,60000,70000]}"
   ]
  },
  {
   "cell_type": "code",
   "execution_count": 130,
   "id": "ae7698a5-a748-4100-9fe3-c8fc10803339",
   "metadata": {},
   "outputs": [],
   "source": [
    "df=pd.DataFrame(data)"
   ]
  },
  {
   "cell_type": "code",
   "execution_count": 131,
   "id": "84060291-6ce1-4498-b741-a88edb7e6cac",
   "metadata": {},
   "outputs": [],
   "source": [
    "df.to_csv(\"insurance1.csv\")"
   ]
  },
  {
   "cell_type": "code",
   "execution_count": null,
   "id": "de157129-fa89-4f97-9305-d9dbc834e7a7",
   "metadata": {},
   "outputs": [],
   "source": []
  },
  {
   "cell_type": "code",
   "execution_count": 132,
   "id": "405bc5c6-6b38-437f-bc72-b451862e8530",
   "metadata": {},
   "outputs": [],
   "source": [
    "data={\"age\":[21,45,32,41,20,35,20,23,42,34,24,22,23,25,43,44,25,30,31],\n",
    "     \"bought_insurance\":[\"no\",\"yes\",\"yes\",\"yes\",\"no\",\"yes\",\"no\", \"no\",\"yes\",\"yes\",\"no\",\"no\",\"no\",\"no\",\"yes\",\"yes\",\"no\",\"yes\",\"yes\"]}"
   ]
  },
  {
   "cell_type": "code",
   "execution_count": 133,
   "id": "34410038-e3d0-407b-becb-657f45a180be",
   "metadata": {},
   "outputs": [],
   "source": [
    "df=pd.DataFrame(data)"
   ]
  },
  {
   "cell_type": "code",
   "execution_count": 134,
   "id": "ec53db0d-987f-4536-bf95-05d2cf064241",
   "metadata": {},
   "outputs": [],
   "source": [
    "df.to_csv(\"insurance2.csv\")"
   ]
  },
  {
   "cell_type": "code",
   "execution_count": null,
   "id": "e1ebba86-6f59-4293-b6ac-c96b3d0b1af4",
   "metadata": {},
   "outputs": [],
   "source": []
  }
 ],
 "metadata": {
  "kernelspec": {
   "display_name": "Python 3 (ipykernel)",
   "language": "python",
   "name": "python3"
  },
  "language_info": {
   "codemirror_mode": {
    "name": "ipython",
    "version": 3
   },
   "file_extension": ".py",
   "mimetype": "text/x-python",
   "name": "python",
   "nbconvert_exporter": "python",
   "pygments_lexer": "ipython3",
   "version": "3.11.3"
  }
 },
 "nbformat": 4,
 "nbformat_minor": 5
}
